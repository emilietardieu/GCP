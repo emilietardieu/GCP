{
 "cells": [
  {
   "cell_type": "code",
   "execution_count": 1,
   "metadata": {},
   "outputs": [],
   "source": [
    "import subprocess\n",
    "from pathlib import Path"
   ]
  },
  {
   "cell_type": "markdown",
   "metadata": {},
   "source": [
    "# Train"
   ]
  },
  {
   "cell_type": "markdown",
   "metadata": {},
   "source": [
    "- Paramètres"
   ]
  },
  {
   "cell_type": "code",
   "execution_count": 120,
   "metadata": {},
   "outputs": [],
   "source": [
    "EPOCHS = \"100\"\n",
    "OPTIM = \"Adam\" # SGD / Adam\n",
    "LR = \"4e-05\"\n",
    "LOSS = \"3t1\"\n",
    "\n",
    "NAME = f\"tt_images_ep{EPOCHS}_{OPTIM}_lr{LR}_{LOSS}_\""
   ]
  },
  {
   "cell_type": "markdown",
   "metadata": {},
   "source": [
    "- Chemins des images\n",
    "- Chemins sauvegarde du model"
   ]
  },
  {
   "cell_type": "code",
   "execution_count": 121,
   "metadata": {},
   "outputs": [],
   "source": [
    "root = Path(r\"/home/hiphen/Documents/GCP/data/my_data/Test_data/toutes_les_images_res4\")\n",
    "\n",
    "train_dir = root/\"images_cropped\"\n",
    "model_path = root / \"checkpoints\" / f\"{NAME}.ckpt\"\n",
    "# model_path = Path(r\"/home/hiphen/Documents/GCP/data/my_data/Test_data/toutes_les_images/checkpoints/tt_images_ep40_Adam_lr4e-05_3t1.ckpt\")"
   ]
  },
  {
   "cell_type": "code",
   "execution_count": 125,
   "metadata": {},
   "outputs": [
    {
     "name": "stderr",
     "output_type": "stream",
     "text": [
      "/home/hiphen/miniconda3/envs/object-locator/lib/python3.7/site-packages/sklearn/model_selection/_split.py:18: DeprecationWarning: Using or importing the ABCs from 'collections' instead of from 'collections.abc' is deprecated since Python 3.3,and in 3.9 it will stop working\n",
      "  from collections import Iterable\n",
      "/home/hiphen/miniconda3/envs/object-locator/lib/python3.7/site-packages/sklearn/model_selection/_search.py:16: DeprecationWarning: Using or importing the ABCs from 'collections' instead of from 'collections.abc' is deprecated since Python 3.3,and in 3.9 it will stop working\n",
      "  from collections import Mapping, namedtuple, defaultdict, Sequence\n",
      "Setting up a new session...\n"
     ]
    },
    {
     "name": "stdout",
     "output_type": "stream",
     "text": [
      "Connected to Visdom server http://localhost:8097\n",
      "# images for training: 10.5K\n",
      "# images for validation: 2.62K\n",
      "Building network... "
     ]
    },
    {
     "name": "stderr",
     "output_type": "stream",
     "text": [
      "/home/hiphen/miniconda3/envs/object-locator/lib/python3.7/site-packages/torchvision/transforms/transforms.py:330: UserWarning: Argument 'interpolation' of type int is deprecated since 0.13 and will be removed in 0.15. Please use InterpolationMode enum.\n",
      "  \"Argument 'interpolation' of type int is deprecated since 0.13 and will be removed in 0.15. \"\n"
     ]
    },
    {
     "name": "stdout",
     "output_type": "stream",
     "text": [
      " with 64.8M trainable parameters. DONE (took 0.370351 seconds)\n"
     ]
    },
    {
     "name": "stderr",
     "output_type": "stream",
     "text": [
      "Epoch 0 (10470 images): 100%|██████████| 10470/10470 [09:35<00:00, 18.20it/s, running_avg=86.7]\n",
      "Validating Epoch 0 (2617 images): 100%|██████████| 2617/2617 [01:03<00:00, 40.96it/s, avg_val_loss_this_epoch=146.0-----]\n"
     ]
    },
    {
     "name": "stdout",
     "output_type": "stream",
     "text": [
      "Saved best checkpoint so far in /home/hiphen/Documents/GCP/data/my_data/Test_data/toutes_les_images_res4/checkpoints/tt_images_ep100_Adam_lr4e-05_3t1_.ckpt \n"
     ]
    },
    {
     "name": "stderr",
     "output_type": "stream",
     "text": [
      "Epoch 1 (10470 images): 100%|██████████| 10470/10470 [09:37<00:00, 18.14it/s, running_avg=66.2]\n",
      "Validating Epoch 1 (2617 images): 100%|██████████| 2617/2617 [00:43<00:00, 59.83it/s, avg_val_loss_this_epoch=91.9-----]\n"
     ]
    },
    {
     "name": "stdout",
     "output_type": "stream",
     "text": [
      "Saved best checkpoint so far in /home/hiphen/Documents/GCP/data/my_data/Test_data/toutes_les_images_res4/checkpoints/tt_images_ep100_Adam_lr4e-05_3t1_.ckpt \n"
     ]
    },
    {
     "name": "stderr",
     "output_type": "stream",
     "text": [
      "Epoch 2 (10470 images): 100%|██████████| 10470/10470 [09:35<00:00, 18.19it/s, running_avg=57.9]\n",
      "Validating Epoch 2 (2617 images): 100%|██████████| 2617/2617 [00:45<00:00, 57.56it/s, avg_val_loss_this_epoch=149.2-----]\n",
      "Epoch 3 (10470 images): 100%|██████████| 10470/10470 [09:42<00:00, 17.98it/s, running_avg=60.6]\n",
      "Validating Epoch 3 (2617 images): 100%|██████████| 2617/2617 [01:01<00:00, 42.53it/s, avg_val_loss_this_epoch=72.6-----]\n",
      "Epoch 4 (10470 images): 100%|██████████| 10470/10470 [09:47<00:00, 17.81it/s, running_avg=56.7]\n",
      "Validating Epoch 4 (2617 images): 100%|██████████| 2617/2617 [00:50<00:00, 52.02it/s, avg_val_loss_this_epoch=75.7-----]\n",
      "Epoch 5 (10470 images): 100%|██████████| 10470/10470 [09:47<00:00, 17.83it/s, running_avg=60.6]\n",
      "Validating Epoch 5 (2617 images): 100%|██████████| 2617/2617 [01:18<00:00, 33.15it/s, avg_val_loss_this_epoch=108.7-----]\n",
      "Epoch 6 (10470 images): 100%|██████████| 10470/10470 [09:52<00:00, 17.67it/s, running_avg=58.7]\n",
      "Validating Epoch 6 (2617 images): 100%|██████████| 2617/2617 [00:50<00:00, 52.03it/s, avg_val_loss_this_epoch=86.6-----]\n"
     ]
    },
    {
     "name": "stdout",
     "output_type": "stream",
     "text": [
      "Saved best checkpoint so far in /home/hiphen/Documents/GCP/data/my_data/Test_data/toutes_les_images_res4/checkpoints/tt_images_ep100_Adam_lr4e-05_3t1_.ckpt \n"
     ]
    },
    {
     "name": "stderr",
     "output_type": "stream",
     "text": [
      "Epoch 7 (10470 images): 100%|██████████| 10470/10470 [09:56<00:00, 17.55it/s, running_avg=54.3]\n",
      "Validating Epoch 7 (2617 images): 100%|██████████| 2617/2617 [00:41<00:00, 62.55it/s, avg_val_loss_this_epoch=142.4-----]\n",
      "Epoch 8 (10470 images): 100%|██████████| 10470/10470 [09:57<00:00, 17.52it/s, running_avg=52.6]\n",
      "Validating Epoch 8 (2617 images): 100%|██████████| 2617/2617 [00:46<00:00, 56.00it/s, avg_val_loss_this_epoch=168.3-----]\n",
      "Epoch 9 (10470 images): 100%|██████████| 10470/10470 [09:58<00:00, 17.49it/s, running_avg=51.4]\n",
      "Validating Epoch 9 (2617 images): 100%|██████████| 2617/2617 [00:39<00:00, 65.79it/s, avg_val_loss_this_epoch=193.8-----]\n",
      "Epoch 10 (10470 images): 100%|██████████| 10470/10470 [09:59<00:00, 17.46it/s, running_avg=51.9]\n",
      "Validating Epoch 10 (2617 images): 100%|██████████| 2617/2617 [00:37<00:00, 69.17it/s, avg_val_loss_this_epoch=173.0-----]\n",
      "Epoch 11 (10470 images): 100%|██████████| 10470/10470 [10:01<00:00, 17.42it/s, running_avg=50.8]\n",
      "Validating Epoch 11 (2617 images): 100%|██████████| 2617/2617 [00:44<00:00, 58.59it/s, avg_val_loss_this_epoch=77.9-----]\n",
      "Epoch 12 (10470 images): 100%|██████████| 10470/10470 [09:56<00:00, 17.56it/s, running_avg=51.9]\n",
      "Validating Epoch 12 (2617 images): 100%|██████████| 2617/2617 [00:49<00:00, 52.44it/s, avg_val_loss_this_epoch=119.1-----]\n",
      "Epoch 13 (10470 images): 100%|██████████| 10470/10470 [09:54<00:00, 17.62it/s, running_avg=50.9]\n",
      "Validating Epoch 13 (2617 images): 100%|██████████| 2617/2617 [00:43<00:00, 60.11it/s, avg_val_loss_this_epoch=106.3-----]\n",
      "Epoch 14 (10470 images): 100%|██████████| 10470/10470 [09:40<00:00, 18.03it/s, running_avg=50.7]\n",
      "Validating Epoch 14 (2617 images): 100%|██████████| 2617/2617 [00:44<00:00, 58.65it/s, avg_val_loss_this_epoch=101.5-----]\n",
      "Epoch 15 (10470 images): 100%|██████████| 10470/10470 [09:52<00:00, 17.68it/s, running_avg=49.5]\n",
      "Validating Epoch 15 (2617 images): 100%|██████████| 2617/2617 [00:42<00:00, 61.28it/s, avg_val_loss_this_epoch=116.6-----]\n",
      "Epoch 16 (10470 images): 100%|██████████| 10470/10470 [09:50<00:00, 17.72it/s, running_avg=49.4]\n",
      "Validating Epoch 16 (2617 images): 100%|██████████| 2617/2617 [00:39<00:00, 65.89it/s, avg_val_loss_this_epoch=187.8-----]\n",
      "Epoch 17 (10470 images): 100%|██████████| 10470/10470 [10:07<00:00, 17.24it/s, running_avg=49.4]\n",
      "Validating Epoch 17 (2617 images): 100%|██████████| 2617/2617 [00:44<00:00, 59.44it/s, avg_val_loss_this_epoch=102.4-----]\n",
      "Epoch 18 (10470 images): 100%|██████████| 10470/10470 [10:00<00:00, 17.45it/s, running_avg=47.8]\n",
      "Validating Epoch 18 (2617 images): 100%|██████████| 2617/2617 [00:39<00:00, 66.49it/s, avg_val_loss_this_epoch=148.3-----]\n",
      "Epoch 19 (10470 images): 100%|██████████| 10470/10470 [09:56<00:00, 17.55it/s, running_avg=48.9]\n",
      "Validating Epoch 19 (2617 images): 100%|██████████| 2617/2617 [00:49<00:00, 52.59it/s, avg_val_loss_this_epoch=122.7-----]\n",
      "Epoch 20 (10470 images): 100%|██████████| 10470/10470 [09:49<00:00, 17.75it/s, running_avg=49.0]\n",
      "Validating Epoch 20 (2617 images): 100%|██████████| 2617/2617 [00:43<00:00, 60.11it/s, avg_val_loss_this_epoch=134.0-----]\n",
      "Epoch 21 (10470 images): 100%|██████████| 10470/10470 [09:53<00:00, 17.65it/s, running_avg=53.9]\n",
      "Validating Epoch 21 (2617 images): 100%|██████████| 2617/2617 [00:42<00:00, 61.82it/s, avg_val_loss_this_epoch=165.9-----]\n",
      "Epoch 22 (10470 images):   6%|▋         | 669/10470 [00:37<09:20, 17.50it/s, running_avg=54.0]"
     ]
    }
   ],
   "source": [
    "\n",
    "# Commande à exécuter\n",
    "commande = [\n",
    "    \"python\", \"-m\", \"object-locator.train\",\n",
    "    \"--train-dir\", str(train_dir),\n",
    "    \"--val-dir\", \"auto\",\n",
    "    \"--epochs\", EPOCHS,\n",
    "    \"--save\", str(model_path),\n",
    "    \"--visdom-env\", f\"{NAME}\",\n",
    "    \"--visdom-server\", \"http://localhost\",\n",
    "    \"--visdom-port\", \"8097\",\n",
    "    \"--optim\", OPTIM,\n",
    "    \"--lr\", LR\n",
    "]\n",
    "\n",
    "# Exécution de la commande\n",
    "subprocess.run(commande)"
   ]
  },
  {
   "cell_type": "markdown",
   "metadata": {},
   "source": [
    "# Locate"
   ]
  },
  {
   "cell_type": "code",
   "execution_count": 109,
   "metadata": {},
   "outputs": [],
   "source": [
    "# images_test = root/\"test\"/\"images\"\n",
    "images_test = Path(r\"/home/hiphen/Documents/GCP/data/my_data/Test_data/toutes_les_images/validation/images\")\n",
    "\n",
    "# out = root/\"out\"/NAME\n",
    "out = Path(r\"/home/hiphen/Documents/GCP/data/my_data/Test_data/toutes_les_images/test_sur_validation\")\n",
    "\n",
    "tau = -2 #detection threshold between 0 and 1. tau=-1 means dynamic Otsu thresholding. tau=-2 means Beta Mixture Model-based thresholding"
   ]
  },
  {
   "cell_type": "code",
   "execution_count": 110,
   "metadata": {},
   "outputs": [
    {
     "name": "stderr",
     "output_type": "stream",
     "text": [
      "/home/hiphen/miniconda3/envs/object-locator/lib/python3.7/site-packages/sklearn/model_selection/_split.py:18: DeprecationWarning: Using or importing the ABCs from 'collections' instead of from 'collections.abc' is deprecated since Python 3.3,and in 3.9 it will stop working\n",
      "  from collections import Iterable\n",
      "/home/hiphen/miniconda3/envs/object-locator/lib/python3.7/site-packages/sklearn/model_selection/_search.py:16: DeprecationWarning: Using or importing the ABCs from 'collections' instead of from 'collections.abc' is deprecated since Python 3.3,and in 3.9 it will stop working\n",
      "  from collections import Mapping, namedtuple, defaultdict, Sequence\n",
      "/home/hiphen/miniconda3/envs/object-locator/lib/python3.7/site-packages/torchvision/transforms/transforms.py:330: UserWarning: Argument 'interpolation' of type int is deprecated since 0.13 and will be removed in 0.15. Please use InterpolationMode enum.\n",
      "  \"Argument 'interpolation' of type int is deprecated since 0.13 and will be removed in 0.15. \"\n"
     ]
    },
    {
     "name": "stdout",
     "output_type": "stream",
     "text": [
      "Loading checkpoint... \n",
      "\\__ loaded checkpoint '/home/hiphen/Documents/GCP/data/my_data/Test_data/toutes_les_images/checkpoints/tt_images_ep40_Adam_lr4e-05_3t1.ckpt' with 64.8M trainable parameters\n",
      "DONE (took 0.849349 seconds)\n"
     ]
    },
    {
     "name": "stderr",
     "output_type": "stream",
     "text": [
      "  0%|          | 0/3170 [00:00<?, ?it/s]/home/hiphen/miniconda3/envs/object-locator/lib/python3.7/site-packages/object-locator/bmm.py:124: RuntimeWarning: invalid value encountered in double_scalars\n",
      "  m = np.dot(wj,x) / pij\n",
      "/home/hiphen/miniconda3/envs/object-locator/lib/python3.7/site-packages/object-locator/bmm.py:124: RuntimeWarning: invalid value encountered in double_scalars\n",
      "  m = np.dot(wj,x) / pij\n",
      "  0%|          | 2/3170 [00:01<27:17,  1.93it/s]/home/hiphen/miniconda3/envs/object-locator/lib/python3.7/site-packages/object-locator/bmm.py:124: RuntimeWarning: invalid value encountered in double_scalars\n",
      "  m = np.dot(wj,x) / pij\n",
      "/home/hiphen/miniconda3/envs/object-locator/lib/python3.7/site-packages/object-locator/bmm.py:124: RuntimeWarning: invalid value encountered in double_scalars\n",
      "  m = np.dot(wj,x) / pij\n",
      "  0%|          | 4/3170 [00:07<2:23:13,  2.71s/it]/home/hiphen/miniconda3/envs/object-locator/lib/python3.7/site-packages/object-locator/bmm.py:124: RuntimeWarning: invalid value encountered in double_scalars\n",
      "  m = np.dot(wj,x) / pij\n",
      "/home/hiphen/miniconda3/envs/object-locator/lib/python3.7/site-packages/object-locator/bmm.py:124: RuntimeWarning: invalid value encountered in double_scalars\n",
      "  m = np.dot(wj,x) / pij\n",
      "  0%|          | 5/3170 [00:07<1:34:01,  1.78s/it]/home/hiphen/miniconda3/envs/object-locator/lib/python3.7/site-packages/object-locator/bmm.py:124: RuntimeWarning: invalid value encountered in double_scalars\n",
      "  m = np.dot(wj,x) / pij\n",
      "/home/hiphen/miniconda3/envs/object-locator/lib/python3.7/site-packages/object-locator/bmm.py:124: RuntimeWarning: invalid value encountered in double_scalars\n",
      "  m = np.dot(wj,x) / pij\n",
      "  0%|          | 6/3170 [00:07<1:04:22,  1.22s/it]/home/hiphen/miniconda3/envs/object-locator/lib/python3.7/site-packages/object-locator/bmm.py:124: RuntimeWarning: invalid value encountered in double_scalars\n",
      "  m = np.dot(wj,x) / pij\n",
      "/home/hiphen/miniconda3/envs/object-locator/lib/python3.7/site-packages/object-locator/bmm.py:124: RuntimeWarning: invalid value encountered in double_scalars\n",
      "  m = np.dot(wj,x) / pij\n",
      "  0%|          | 13/3170 [00:22<1:52:59,  2.15s/it]/home/hiphen/miniconda3/envs/object-locator/lib/python3.7/site-packages/object-locator/bmm.py:124: RuntimeWarning: invalid value encountered in double_scalars\n",
      "  m = np.dot(wj,x) / pij\n",
      "/home/hiphen/miniconda3/envs/object-locator/lib/python3.7/site-packages/object-locator/bmm.py:124: RuntimeWarning: invalid value encountered in double_scalars\n",
      "  m = np.dot(wj,x) / pij\n",
      "  1%|          | 16/3170 [00:23<45:28,  1.16it/s]  /home/hiphen/miniconda3/envs/object-locator/lib/python3.7/site-packages/object-locator/bmm.py:124: RuntimeWarning: invalid value encountered in double_scalars\n",
      "  m = np.dot(wj,x) / pij\n",
      "/home/hiphen/miniconda3/envs/object-locator/lib/python3.7/site-packages/object-locator/bmm.py:124: RuntimeWarning: invalid value encountered in double_scalars\n",
      "  m = np.dot(wj,x) / pij\n",
      "  1%|          | 17/3170 [00:23<33:51,  1.55it/s]/home/hiphen/miniconda3/envs/object-locator/lib/python3.7/site-packages/object-locator/bmm.py:124: RuntimeWarning: invalid value encountered in double_scalars\n",
      "  m = np.dot(wj,x) / pij\n",
      "/home/hiphen/miniconda3/envs/object-locator/lib/python3.7/site-packages/object-locator/bmm.py:124: RuntimeWarning: invalid value encountered in double_scalars\n",
      "  m = np.dot(wj,x) / pij\n",
      "  1%|          | 18/3170 [00:23<25:44,  2.04it/s]/home/hiphen/miniconda3/envs/object-locator/lib/python3.7/site-packages/object-locator/bmm.py:124: RuntimeWarning: invalid value encountered in double_scalars\n",
      "  m = np.dot(wj,x) / pij\n",
      "/home/hiphen/miniconda3/envs/object-locator/lib/python3.7/site-packages/object-locator/bmm.py:124: RuntimeWarning: invalid value encountered in double_scalars\n",
      "  m = np.dot(wj,x) / pij\n",
      "  1%|          | 20/3170 [00:24<21:10,  2.48it/s]/home/hiphen/miniconda3/envs/object-locator/lib/python3.7/site-packages/object-locator/bmm.py:124: RuntimeWarning: invalid value encountered in double_scalars\n",
      "  m = np.dot(wj,x) / pij\n",
      "/home/hiphen/miniconda3/envs/object-locator/lib/python3.7/site-packages/object-locator/bmm.py:124: RuntimeWarning: invalid value encountered in double_scalars\n",
      "  m = np.dot(wj,x) / pij\n",
      "  1%|          | 23/3170 [00:33<1:50:08,  2.10s/it]/home/hiphen/miniconda3/envs/object-locator/lib/python3.7/site-packages/object-locator/bmm.py:124: RuntimeWarning: invalid value encountered in double_scalars\n",
      "  m = np.dot(wj,x) / pij\n",
      "/home/hiphen/miniconda3/envs/object-locator/lib/python3.7/site-packages/object-locator/bmm.py:124: RuntimeWarning: invalid value encountered in double_scalars\n",
      "  m = np.dot(wj,x) / pij\n",
      "  1%|          | 24/3170 [00:33<1:19:12,  1.51s/it]/home/hiphen/miniconda3/envs/object-locator/lib/python3.7/site-packages/object-locator/bmm.py:124: RuntimeWarning: invalid value encountered in double_scalars\n",
      "  m = np.dot(wj,x) / pij\n",
      "/home/hiphen/miniconda3/envs/object-locator/lib/python3.7/site-packages/object-locator/bmm.py:124: RuntimeWarning: invalid value encountered in double_scalars\n",
      "  m = np.dot(wj,x) / pij\n",
      "  1%|          | 25/3170 [00:33<57:34,  1.10s/it]  /home/hiphen/miniconda3/envs/object-locator/lib/python3.7/site-packages/object-locator/bmm.py:124: RuntimeWarning: invalid value encountered in double_scalars\n",
      "  m = np.dot(wj,x) / pij\n",
      "/home/hiphen/miniconda3/envs/object-locator/lib/python3.7/site-packages/object-locator/bmm.py:124: RuntimeWarning: invalid value encountered in double_scalars\n",
      "  m = np.dot(wj,x) / pij\n",
      "  1%|          | 28/3170 [00:39<1:28:31,  1.69s/it]/home/hiphen/miniconda3/envs/object-locator/lib/python3.7/site-packages/object-locator/bmm.py:124: RuntimeWarning: invalid value encountered in double_scalars\n",
      "  m = np.dot(wj,x) / pij\n",
      "/home/hiphen/miniconda3/envs/object-locator/lib/python3.7/site-packages/object-locator/bmm.py:124: RuntimeWarning: invalid value encountered in double_scalars\n",
      "  m = np.dot(wj,x) / pij\n",
      "  1%|          | 29/3170 [00:39<1:04:02,  1.22s/it]/home/hiphen/miniconda3/envs/object-locator/lib/python3.7/site-packages/object-locator/bmm.py:124: RuntimeWarning: invalid value encountered in double_scalars\n",
      "  m = np.dot(wj,x) / pij\n",
      "/home/hiphen/miniconda3/envs/object-locator/lib/python3.7/site-packages/object-locator/bmm.py:124: RuntimeWarning: invalid value encountered in double_scalars\n",
      "  m = np.dot(wj,x) / pij\n",
      "  1%|          | 34/3170 [00:59<2:33:21,  2.93s/it]/home/hiphen/miniconda3/envs/object-locator/lib/python3.7/site-packages/object-locator/bmm.py:124: RuntimeWarning: invalid value encountered in double_scalars\n",
      "  m = np.dot(wj,x) / pij\n",
      "/home/hiphen/miniconda3/envs/object-locator/lib/python3.7/site-packages/object-locator/bmm.py:124: RuntimeWarning: invalid value encountered in double_scalars\n",
      "  m = np.dot(wj,x) / pij\n",
      "  1%|          | 36/3170 [00:59<1:20:04,  1.53s/it]/home/hiphen/miniconda3/envs/object-locator/lib/python3.7/site-packages/object-locator/bmm.py:124: RuntimeWarning: invalid value encountered in double_scalars\n",
      "  m = np.dot(wj,x) / pij\n",
      "/home/hiphen/miniconda3/envs/object-locator/lib/python3.7/site-packages/object-locator/bmm.py:124: RuntimeWarning: invalid value encountered in double_scalars\n",
      "  m = np.dot(wj,x) / pij\n",
      "  1%|          | 37/3170 [00:59<58:04,  1.11s/it]  /home/hiphen/miniconda3/envs/object-locator/lib/python3.7/site-packages/object-locator/bmm.py:124: RuntimeWarning: invalid value encountered in double_scalars\n",
      "  m = np.dot(wj,x) / pij\n",
      "/home/hiphen/miniconda3/envs/object-locator/lib/python3.7/site-packages/object-locator/bmm.py:124: RuntimeWarning: invalid value encountered in double_scalars\n",
      "  m = np.dot(wj,x) / pij\n",
      "  1%|          | 38/3170 [00:59<42:42,  1.22it/s]/home/hiphen/miniconda3/envs/object-locator/lib/python3.7/site-packages/object-locator/bmm.py:124: RuntimeWarning: invalid value encountered in double_scalars\n",
      "  m = np.dot(wj,x) / pij\n",
      "/home/hiphen/miniconda3/envs/object-locator/lib/python3.7/site-packages/object-locator/bmm.py:124: RuntimeWarning: invalid value encountered in double_scalars\n",
      "  m = np.dot(wj,x) / pij\n",
      "  1%|▏         | 40/3170 [01:00<24:21,  2.14it/s]/home/hiphen/miniconda3/envs/object-locator/lib/python3.7/site-packages/object-locator/bmm.py:124: RuntimeWarning: invalid value encountered in double_scalars\n",
      "  m = np.dot(wj,x) / pij\n",
      "/home/hiphen/miniconda3/envs/object-locator/lib/python3.7/site-packages/object-locator/bmm.py:124: RuntimeWarning: invalid value encountered in double_scalars\n",
      "  m = np.dot(wj,x) / pij\n",
      "  1%|▏         | 43/3170 [01:14<3:21:40,  3.87s/it]/home/hiphen/miniconda3/envs/object-locator/lib/python3.7/site-packages/object-locator/bmm.py:124: RuntimeWarning: invalid value encountered in double_scalars\n",
      "  m = np.dot(wj,x) / pij\n",
      "/home/hiphen/miniconda3/envs/object-locator/lib/python3.7/site-packages/object-locator/bmm.py:124: RuntimeWarning: invalid value encountered in double_scalars\n",
      "  m = np.dot(wj,x) / pij\n",
      "  1%|▏         | 46/3170 [01:29<4:18:57,  4.97s/it]/home/hiphen/miniconda3/envs/object-locator/lib/python3.7/site-packages/object-locator/bmm.py:124: RuntimeWarning: invalid value encountered in double_scalars\n",
      "  m = np.dot(wj,x) / pij\n",
      "/home/hiphen/miniconda3/envs/object-locator/lib/python3.7/site-packages/object-locator/bmm.py:124: RuntimeWarning: invalid value encountered in double_scalars\n",
      "  m = np.dot(wj,x) / pij\n",
      "  2%|▏         | 51/3170 [02:46<17:55:11, 20.68s/it]/home/hiphen/miniconda3/envs/object-locator/lib/python3.7/site-packages/object-locator/bmm.py:124: RuntimeWarning: invalid value encountered in double_scalars\n",
      "  m = np.dot(wj,x) / pij\n",
      "/home/hiphen/miniconda3/envs/object-locator/lib/python3.7/site-packages/object-locator/bmm.py:124: RuntimeWarning: invalid value encountered in double_scalars\n",
      "  m = np.dot(wj,x) / pij\n",
      "  2%|▏         | 53/3170 [02:48<9:19:01, 10.76s/it] /home/hiphen/miniconda3/envs/object-locator/lib/python3.7/site-packages/object-locator/bmm.py:124: RuntimeWarning: invalid value encountered in double_scalars\n",
      "  m = np.dot(wj,x) / pij\n",
      "/home/hiphen/miniconda3/envs/object-locator/lib/python3.7/site-packages/object-locator/bmm.py:124: RuntimeWarning: invalid value encountered in double_scalars\n",
      "  m = np.dot(wj,x) / pij\n",
      "  2%|▏         | 56/3170 [03:00<5:24:05,  6.24s/it]/home/hiphen/miniconda3/envs/object-locator/lib/python3.7/site-packages/object-locator/bmm.py:124: RuntimeWarning: invalid value encountered in double_scalars\n",
      "  m = np.dot(wj,x) / pij\n",
      "/home/hiphen/miniconda3/envs/object-locator/lib/python3.7/site-packages/object-locator/bmm.py:124: RuntimeWarning: invalid value encountered in double_scalars\n",
      "  m = np.dot(wj,x) / pij\n",
      "  2%|▏         | 57/3170 [03:00<3:48:50,  4.41s/it]/home/hiphen/miniconda3/envs/object-locator/lib/python3.7/site-packages/object-locator/bmm.py:124: RuntimeWarning: invalid value encountered in double_scalars\n",
      "  m = np.dot(wj,x) / pij\n",
      "/home/hiphen/miniconda3/envs/object-locator/lib/python3.7/site-packages/object-locator/bmm.py:124: RuntimeWarning: invalid value encountered in double_scalars\n",
      "  m = np.dot(wj,x) / pij\n",
      "  2%|▏         | 59/3170 [03:10<4:27:22,  5.16s/it]/home/hiphen/miniconda3/envs/object-locator/lib/python3.7/site-packages/object-locator/bmm.py:124: RuntimeWarning: invalid value encountered in double_scalars\n",
      "  m = np.dot(wj,x) / pij\n",
      "/home/hiphen/miniconda3/envs/object-locator/lib/python3.7/site-packages/object-locator/bmm.py:124: RuntimeWarning: invalid value encountered in double_scalars\n",
      "  m = np.dot(wj,x) / pij\n",
      "  2%|▏         | 62/3170 [03:18<3:00:14,  3.48s/it]/home/hiphen/miniconda3/envs/object-locator/lib/python3.7/site-packages/object-locator/bmm.py:124: RuntimeWarning: invalid value encountered in double_scalars\n",
      "  m = np.dot(wj,x) / pij\n",
      "/home/hiphen/miniconda3/envs/object-locator/lib/python3.7/site-packages/object-locator/bmm.py:124: RuntimeWarning: invalid value encountered in double_scalars\n",
      "  m = np.dot(wj,x) / pij\n",
      "  2%|▏         | 63/3170 [03:18<2:08:15,  2.48s/it]"
     ]
    },
    {
     "ename": "KeyboardInterrupt",
     "evalue": "",
     "output_type": "error",
     "traceback": [
      "\u001b[0;31m---------------------------------------------------------------------------\u001b[0m",
      "\u001b[0;31mKeyboardInterrupt\u001b[0m                         Traceback (most recent call last)",
      "\u001b[0;32m/tmp/ipykernel_2336032/2377190227.py\u001b[0m in \u001b[0;36m<module>\u001b[0;34m\u001b[0m\n\u001b[1;32m      9\u001b[0m \u001b[0;34m\u001b[0m\u001b[0m\n\u001b[1;32m     10\u001b[0m \u001b[0;31m# Exécution de la commande\u001b[0m\u001b[0;34m\u001b[0m\u001b[0;34m\u001b[0m\u001b[0;34m\u001b[0m\u001b[0m\n\u001b[0;32m---> 11\u001b[0;31m \u001b[0msubprocess\u001b[0m\u001b[0;34m.\u001b[0m\u001b[0mrun\u001b[0m\u001b[0;34m(\u001b[0m\u001b[0mcommande\u001b[0m\u001b[0;34m)\u001b[0m\u001b[0;34m\u001b[0m\u001b[0;34m\u001b[0m\u001b[0m\n\u001b[0m",
      "\u001b[0;32m~/miniconda3/envs/object-locator/lib/python3.7/subprocess.py\u001b[0m in \u001b[0;36mrun\u001b[0;34m(input, capture_output, timeout, check, *popenargs, **kwargs)\u001b[0m\n\u001b[1;32m    488\u001b[0m     \u001b[0;32mwith\u001b[0m \u001b[0mPopen\u001b[0m\u001b[0;34m(\u001b[0m\u001b[0;34m*\u001b[0m\u001b[0mpopenargs\u001b[0m\u001b[0;34m,\u001b[0m \u001b[0;34m**\u001b[0m\u001b[0mkwargs\u001b[0m\u001b[0;34m)\u001b[0m \u001b[0;32mas\u001b[0m \u001b[0mprocess\u001b[0m\u001b[0;34m:\u001b[0m\u001b[0;34m\u001b[0m\u001b[0;34m\u001b[0m\u001b[0m\n\u001b[1;32m    489\u001b[0m         \u001b[0;32mtry\u001b[0m\u001b[0;34m:\u001b[0m\u001b[0;34m\u001b[0m\u001b[0;34m\u001b[0m\u001b[0m\n\u001b[0;32m--> 490\u001b[0;31m             \u001b[0mstdout\u001b[0m\u001b[0;34m,\u001b[0m \u001b[0mstderr\u001b[0m \u001b[0;34m=\u001b[0m \u001b[0mprocess\u001b[0m\u001b[0;34m.\u001b[0m\u001b[0mcommunicate\u001b[0m\u001b[0;34m(\u001b[0m\u001b[0minput\u001b[0m\u001b[0;34m,\u001b[0m \u001b[0mtimeout\u001b[0m\u001b[0;34m=\u001b[0m\u001b[0mtimeout\u001b[0m\u001b[0;34m)\u001b[0m\u001b[0;34m\u001b[0m\u001b[0;34m\u001b[0m\u001b[0m\n\u001b[0m\u001b[1;32m    491\u001b[0m         \u001b[0;32mexcept\u001b[0m \u001b[0mTimeoutExpired\u001b[0m \u001b[0;32mas\u001b[0m \u001b[0mexc\u001b[0m\u001b[0;34m:\u001b[0m\u001b[0;34m\u001b[0m\u001b[0;34m\u001b[0m\u001b[0m\n\u001b[1;32m    492\u001b[0m             \u001b[0mprocess\u001b[0m\u001b[0;34m.\u001b[0m\u001b[0mkill\u001b[0m\u001b[0;34m(\u001b[0m\u001b[0;34m)\u001b[0m\u001b[0;34m\u001b[0m\u001b[0;34m\u001b[0m\u001b[0m\n",
      "\u001b[0;32m~/miniconda3/envs/object-locator/lib/python3.7/subprocess.py\u001b[0m in \u001b[0;36mcommunicate\u001b[0;34m(self, input, timeout)\u001b[0m\n\u001b[1;32m    954\u001b[0m                 \u001b[0mstderr\u001b[0m \u001b[0;34m=\u001b[0m \u001b[0mself\u001b[0m\u001b[0;34m.\u001b[0m\u001b[0mstderr\u001b[0m\u001b[0;34m.\u001b[0m\u001b[0mread\u001b[0m\u001b[0;34m(\u001b[0m\u001b[0;34m)\u001b[0m\u001b[0;34m\u001b[0m\u001b[0;34m\u001b[0m\u001b[0m\n\u001b[1;32m    955\u001b[0m                 \u001b[0mself\u001b[0m\u001b[0;34m.\u001b[0m\u001b[0mstderr\u001b[0m\u001b[0;34m.\u001b[0m\u001b[0mclose\u001b[0m\u001b[0;34m(\u001b[0m\u001b[0;34m)\u001b[0m\u001b[0;34m\u001b[0m\u001b[0;34m\u001b[0m\u001b[0m\n\u001b[0;32m--> 956\u001b[0;31m             \u001b[0mself\u001b[0m\u001b[0;34m.\u001b[0m\u001b[0mwait\u001b[0m\u001b[0;34m(\u001b[0m\u001b[0;34m)\u001b[0m\u001b[0;34m\u001b[0m\u001b[0;34m\u001b[0m\u001b[0m\n\u001b[0m\u001b[1;32m    957\u001b[0m         \u001b[0;32melse\u001b[0m\u001b[0;34m:\u001b[0m\u001b[0;34m\u001b[0m\u001b[0;34m\u001b[0m\u001b[0m\n\u001b[1;32m    958\u001b[0m             \u001b[0;32mif\u001b[0m \u001b[0mtimeout\u001b[0m \u001b[0;32mis\u001b[0m \u001b[0;32mnot\u001b[0m \u001b[0;32mNone\u001b[0m\u001b[0;34m:\u001b[0m\u001b[0;34m\u001b[0m\u001b[0;34m\u001b[0m\u001b[0m\n",
      "\u001b[0;32m~/miniconda3/envs/object-locator/lib/python3.7/subprocess.py\u001b[0m in \u001b[0;36mwait\u001b[0;34m(self, timeout)\u001b[0m\n\u001b[1;32m   1017\u001b[0m             \u001b[0mendtime\u001b[0m \u001b[0;34m=\u001b[0m \u001b[0m_time\u001b[0m\u001b[0;34m(\u001b[0m\u001b[0;34m)\u001b[0m \u001b[0;34m+\u001b[0m \u001b[0mtimeout\u001b[0m\u001b[0;34m\u001b[0m\u001b[0;34m\u001b[0m\u001b[0m\n\u001b[1;32m   1018\u001b[0m         \u001b[0;32mtry\u001b[0m\u001b[0;34m:\u001b[0m\u001b[0;34m\u001b[0m\u001b[0;34m\u001b[0m\u001b[0m\n\u001b[0;32m-> 1019\u001b[0;31m             \u001b[0;32mreturn\u001b[0m \u001b[0mself\u001b[0m\u001b[0;34m.\u001b[0m\u001b[0m_wait\u001b[0m\u001b[0;34m(\u001b[0m\u001b[0mtimeout\u001b[0m\u001b[0;34m=\u001b[0m\u001b[0mtimeout\u001b[0m\u001b[0;34m)\u001b[0m\u001b[0;34m\u001b[0m\u001b[0;34m\u001b[0m\u001b[0m\n\u001b[0m\u001b[1;32m   1020\u001b[0m         \u001b[0;32mexcept\u001b[0m \u001b[0mKeyboardInterrupt\u001b[0m\u001b[0;34m:\u001b[0m\u001b[0;34m\u001b[0m\u001b[0;34m\u001b[0m\u001b[0m\n\u001b[1;32m   1021\u001b[0m             \u001b[0;31m# https://bugs.python.org/issue25942\u001b[0m\u001b[0;34m\u001b[0m\u001b[0;34m\u001b[0m\u001b[0;34m\u001b[0m\u001b[0m\n",
      "\u001b[0;32m~/miniconda3/envs/object-locator/lib/python3.7/subprocess.py\u001b[0m in \u001b[0;36m_wait\u001b[0;34m(self, timeout)\u001b[0m\n\u001b[1;32m   1651\u001b[0m                         \u001b[0;32mif\u001b[0m \u001b[0mself\u001b[0m\u001b[0;34m.\u001b[0m\u001b[0mreturncode\u001b[0m \u001b[0;32mis\u001b[0m \u001b[0;32mnot\u001b[0m \u001b[0;32mNone\u001b[0m\u001b[0;34m:\u001b[0m\u001b[0;34m\u001b[0m\u001b[0;34m\u001b[0m\u001b[0m\n\u001b[1;32m   1652\u001b[0m                             \u001b[0;32mbreak\u001b[0m  \u001b[0;31m# Another thread waited.\u001b[0m\u001b[0;34m\u001b[0m\u001b[0;34m\u001b[0m\u001b[0m\n\u001b[0;32m-> 1653\u001b[0;31m                         \u001b[0;34m(\u001b[0m\u001b[0mpid\u001b[0m\u001b[0;34m,\u001b[0m \u001b[0msts\u001b[0m\u001b[0;34m)\u001b[0m \u001b[0;34m=\u001b[0m \u001b[0mself\u001b[0m\u001b[0;34m.\u001b[0m\u001b[0m_try_wait\u001b[0m\u001b[0;34m(\u001b[0m\u001b[0;36m0\u001b[0m\u001b[0;34m)\u001b[0m\u001b[0;34m\u001b[0m\u001b[0;34m\u001b[0m\u001b[0m\n\u001b[0m\u001b[1;32m   1654\u001b[0m                         \u001b[0;31m# Check the pid and loop as waitpid has been known to\u001b[0m\u001b[0;34m\u001b[0m\u001b[0;34m\u001b[0m\u001b[0;34m\u001b[0m\u001b[0m\n\u001b[1;32m   1655\u001b[0m                         \u001b[0;31m# return 0 even without WNOHANG in odd situations.\u001b[0m\u001b[0;34m\u001b[0m\u001b[0;34m\u001b[0m\u001b[0;34m\u001b[0m\u001b[0m\n",
      "\u001b[0;32m~/miniconda3/envs/object-locator/lib/python3.7/subprocess.py\u001b[0m in \u001b[0;36m_try_wait\u001b[0;34m(self, wait_flags)\u001b[0m\n\u001b[1;32m   1609\u001b[0m             \u001b[0;34m\"\"\"All callers to this function MUST hold self._waitpid_lock.\"\"\"\u001b[0m\u001b[0;34m\u001b[0m\u001b[0;34m\u001b[0m\u001b[0m\n\u001b[1;32m   1610\u001b[0m             \u001b[0;32mtry\u001b[0m\u001b[0;34m:\u001b[0m\u001b[0;34m\u001b[0m\u001b[0;34m\u001b[0m\u001b[0m\n\u001b[0;32m-> 1611\u001b[0;31m                 \u001b[0;34m(\u001b[0m\u001b[0mpid\u001b[0m\u001b[0;34m,\u001b[0m \u001b[0msts\u001b[0m\u001b[0;34m)\u001b[0m \u001b[0;34m=\u001b[0m \u001b[0mos\u001b[0m\u001b[0;34m.\u001b[0m\u001b[0mwaitpid\u001b[0m\u001b[0;34m(\u001b[0m\u001b[0mself\u001b[0m\u001b[0;34m.\u001b[0m\u001b[0mpid\u001b[0m\u001b[0;34m,\u001b[0m \u001b[0mwait_flags\u001b[0m\u001b[0;34m)\u001b[0m\u001b[0;34m\u001b[0m\u001b[0;34m\u001b[0m\u001b[0m\n\u001b[0m\u001b[1;32m   1612\u001b[0m             \u001b[0;32mexcept\u001b[0m \u001b[0mChildProcessError\u001b[0m\u001b[0;34m:\u001b[0m\u001b[0;34m\u001b[0m\u001b[0;34m\u001b[0m\u001b[0m\n\u001b[1;32m   1613\u001b[0m                 \u001b[0;31m# This happens if SIGCLD is set to be ignored or waiting\u001b[0m\u001b[0;34m\u001b[0m\u001b[0;34m\u001b[0m\u001b[0;34m\u001b[0m\u001b[0m\n",
      "\u001b[0;31mKeyboardInterrupt\u001b[0m: "
     ]
    }
   ],
   "source": [
    "# Commande à exécuter\n",
    "commande = [\n",
    "    \"python\", \"-m\", \"object-locator.locate\",\n",
    "    \"--dataset\", images_test,\n",
    "    \"--out\", str(f\"{out}\"),\n",
    "    \"--model\", str(model_path),\n",
    "    \"--tau\", str(tau),\n",
    "    \"--evaluate\"]\n",
    "\n",
    "# Exécution de la commande\n",
    "subprocess.run(commande)"
   ]
  }
 ],
 "metadata": {
  "kernelspec": {
   "display_name": "object-locator",
   "language": "python",
   "name": "python3"
  },
  "language_info": {
   "codemirror_mode": {
    "name": "ipython",
    "version": 3
   },
   "file_extension": ".py",
   "mimetype": "text/x-python",
   "name": "python",
   "nbconvert_exporter": "python",
   "pygments_lexer": "ipython3",
   "version": "3.7.12"
  }
 },
 "nbformat": 4,
 "nbformat_minor": 2
}
