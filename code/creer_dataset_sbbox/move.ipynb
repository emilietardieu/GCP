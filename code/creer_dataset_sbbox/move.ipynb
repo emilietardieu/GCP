{
 "cells": [
  {
   "cell_type": "code",
   "execution_count": 3,
   "metadata": {},
   "outputs": [],
   "source": [
    "from pathlib import Path\n",
    "import shutil"
   ]
  },
  {
   "cell_type": "code",
   "execution_count": 6,
   "metadata": {},
   "outputs": [],
   "source": [
    "path_init = Path(r\"/home/hiphen/Documents/GCP/data/my_data/dataset_advanta/test/images\")\n",
    "path_final = Path(r\"/home/hiphen/Documents/GCP/data/my_data/dataset_advanta/images_originales\")"
   ]
  },
  {
   "cell_type": "code",
   "execution_count": 7,
   "metadata": {},
   "outputs": [],
   "source": [
    "# Création du dossier de destination s'il n'existe pas\n",
    "path_final.mkdir(parents=True, exist_ok=True)\n",
    "\n",
    "# Parcours et déplacement des fichiers\n",
    "for file in path_init.glob(\"*.*\"):  # Ici, *.* sélectionne tous les fichiers (images ou autres)\n",
    "    if file.is_file():  # Vérifie que c'est bien un fichier\n",
    "        shutil.move(str(file), str(path_final / file.name))"
   ]
  }
 ],
 "metadata": {
  "kernelspec": {
   "display_name": "object-locator",
   "language": "python",
   "name": "python3"
  },
  "language_info": {
   "codemirror_mode": {
    "name": "ipython",
    "version": 3
   },
   "file_extension": ".py",
   "mimetype": "text/x-python",
   "name": "python",
   "nbconvert_exporter": "python",
   "pygments_lexer": "ipython3",
   "version": "3.7.12"
  }
 },
 "nbformat": 4,
 "nbformat_minor": 2
}
